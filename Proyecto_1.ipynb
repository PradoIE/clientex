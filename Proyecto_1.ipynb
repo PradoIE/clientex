{
 "cells": [
  {
   "cell_type": "code",
   "execution_count": null,
   "metadata": {},
   "outputs": [],
   "source": [
    "############################################################################################ Leer Datos de eGauge\n",
    "\n",
    "import datetime\n",
    "from datetime import timedelta\n",
    "import pandas as pd\n",
    "import numpy as np\n",
    "import plotly.express as px \n",
    "import plotly.graph_objects as go\n",
    "\n",
    "data = pd.read_csv(\"https://egauge50670.egaug.es/5D1CF/cgi-bin/egauge-show?c&m&n=1440&C\")  \n",
    "#data = pd.read_csv(\"https://egauge50670.egaug.es/5D1CF/cgi-bin/egauge-show?c&m&n=20&C\")\n",
    "\n",
    "############################################################################################ Renombrar Nombres de Columnas\n",
    "\n",
    "data = data.rename(columns = {'Date & Time':'Fecha y Hora','Usage [kW]':'Uso [kW]','Generation [kW]':'Generación [kW]'})\n",
    "\n",
    "############################################################################################ Pasar de unidad UNIX a Fecha y Hora\n",
    "\n",
    "data[\"Fecha y Hora\"] = data[\"Fecha y Hora\"].apply(lambda x: x - 21600) #Tiempo Horario del Servidor\n",
    "data[\"Fecha y Hora\"] = data[\"Fecha y Hora\"].apply(lambda x: datetime.datetime.fromtimestamp(x))\n",
    "data[\"Fecha y Hora\"] = data[\"Fecha y Hora\"].apply(lambda x: x.strftime(\"%H:%M\"))\n",
    "#%Y-%m-%d %H:%M:%S\n",
    "\n",
    "############################################################################################ Usar Únicamente 2 decimales\n",
    "\n",
    "columns = [ \"Uso [kW]\", \"Generación [kW]\",\"Potencia Tablero M + Otros [kW]\",\"Potencia Tablero Principal [kW]\",\n",
    "            \"Potencia Generacion PV [kW]\", \"Potencia Tableros Otros G [kW]\", \"Potencia Tableros Otros P [kW]\",\n",
    "            \"Potencia Tablero AC [kW]\", \"Potencia Tablero AC (+PV) [kW]\", \"Potencia Consumo Total Casa [kW]\",\n",
    "            \"Potencia AC Vinoteca [kW]\", \"Potencia AC Cuarto Principal [kW]\", \"Potencia Tablero AC2 [kW]\",\n",
    "            \"Fase A [V]\", \"Fase B [V]\", \"Potencia Tablero M [kW]\", \"Potencia AC1 (Cine-Gimnasio) [kW]\",\n",
    "            \"Potencia AC3 (DormPri-Dorm3) [kW]\", \"Potencia AC5 (Dorm2-Sala) [kW]\", \"Potencia AC14 (Cuarto TI) [kW]\",\n",
    "            \"Potencia AC2 (Dorm4-5-6) [kW]\",\"Potencia AC4 (Dorm1-Comedor) [kW]\", \"Potencia AC6 (Cocina-SalaPool) [kW]\",\n",
    "            \"Potencia AC8 (Bar) [kW]\", \"Potencia Bomba Agua Potable 1 [kW]\", \"Potencia Tanque Agua Caliente T [kW]\",\n",
    "            \"Potencia Bomba Agua Potable 2 [kW]\"]\n",
    "\n",
    "data[columns] = data[columns].round(2)\n",
    "\n",
    "############################################################################################ Gráficar Todas las Filas y Columnas  \n",
    "\n",
    "pd.set_option(\"display.max_rows\", None, \"display.max_columns\", None)\n",
    "#data.head(20)\n",
    "\n",
    "############################################################################################ Separar Columnas\n",
    "\n",
    "colum1 = [\"Fase A [V]\", \"Fase B [V]\", \"Potencia Tablero M [kW]\", \"Potencia AC1 (Cine-Gimnasio) [kW]\",\n",
    "            \"Potencia AC3 (DormPri-Dorm3) [kW]\", \"Potencia AC5 (Dorm2-Sala) [kW]\", \"Potencia AC14 (Cuarto TI) [kW]\",\n",
    "            \"Potencia AC2 (Dorm4-5-6) [kW]\",\"Potencia AC4 (Dorm1-Comedor) [kW]\", \"Potencia AC6 (Cocina-SalaPool) [kW]\",\n",
    "            \"Potencia AC8 (Bar) [kW]\", \"Potencia Bomba Agua Potable 1 [kW]\", \"Potencia Tanque Agua Caliente T [kW]\",\n",
    "            \"Potencia Bomba Agua Potable 2 [kW]\"] \n",
    "\n",
    "data1 = data.drop(colum1, axis =1)\n",
    "data1.head(20)"
   ]
  },
  {
   "cell_type": "code",
   "execution_count": null,
   "metadata": {
    "scrolled": true
   },
   "outputs": [],
   "source": [
    "############################################################################################ Separar Columnas 2\n",
    "\n",
    "colum2 = [\"Uso [kW]\", \"Generación [kW]\",\"Potencia Tablero M + Otros [kW]\",\"Potencia Tablero Principal [kW]\",\n",
    "            \"Potencia Generacion PV [kW]\", \"Potencia Tableros Otros G [kW]\", \"Potencia Tableros Otros P [kW]\",\n",
    "            \"Potencia Tablero AC [kW]\", \"Potencia Tablero AC (+PV) [kW]\", \"Potencia Consumo Total Casa [kW]\",\n",
    "            \"Potencia AC Vinoteca [kW]\", \"Potencia AC Cuarto Principal [kW]\", \"Potencia Tablero AC2 [kW]\"] \n",
    "\n",
    "data2 = data.drop(colum2, axis =1)\n",
    "data2.head(20)"
   ]
  },
  {
   "cell_type": "code",
   "execution_count": null,
   "metadata": {
    "scrolled": true
   },
   "outputs": [],
   "source": [
    "#### GRÁFICA 1\n",
    "############################################################################################ Invertir las Columnas para Gráficar\n",
    "\n",
    "\n",
    "data[\"Fecha y Hora\"] = data[\"Fecha y Hora\"].values[::-1]\n",
    "data[\"Uso [kW]\"] = data[\"Uso [kW]\"].values[::-1]\n",
    "data[\"Generación [kW]\"] = data[\"Generación [kW]\"].values[::-1]\n",
    "\n",
    "############################################################################################ Delimitar las Columnas a Usar\n",
    "\n",
    "column3 = [ \"Potencia Tablero M + Otros [kW]\",\"Potencia Tablero Principal [kW]\",\n",
    "            \"Potencia Generacion PV [kW]\", \"Potencia Tableros Otros G [kW]\", \"Potencia Tableros Otros P [kW]\",\n",
    "            \"Potencia Tablero AC [kW]\", \"Potencia Tablero AC (+PV) [kW]\", \"Potencia Consumo Total Casa [kW]\",\n",
    "            \"Potencia AC Vinoteca [kW]\", \"Potencia AC Cuarto Principal [kW]\", \"Potencia Tablero AC2 [kW]\",\n",
    "            \"Fase A [V]\", \"Fase B [V]\", \"Potencia Tablero M [kW]\", \"Potencia AC1 (Cine-Gimnasio) [kW]\",\n",
    "            \"Potencia AC3 (DormPri-Dorm3) [kW]\", \"Potencia AC5 (Dorm2-Sala) [kW]\", \"Potencia AC14 (Cuarto TI) [kW]\",\n",
    "            \"Potencia AC2 (Dorm4-5-6) [kW]\",\"Potencia AC4 (Dorm1-Comedor) [kW]\", \"Potencia AC6 (Cocina-SalaPool) [kW]\",\n",
    "            \"Potencia AC8 (Bar) [kW]\", \"Potencia Bomba Agua Potable 1 [kW]\", \"Potencia Tanque Agua Caliente T [kW]\",\n",
    "            \"Potencia Bomba Agua Potable 2 [kW]\"]\n",
    "\n",
    "data3 = data.drop(column3, axis = 1)\n",
    "\n",
    "############################################################################################ Gráfica\n",
    "\n",
    "fig = px.line(data3, x = data3[\"Fecha y Hora\"], y = data3.columns,\n",
    "              color_discrete_map = {\n",
    "                  \"Uso [kW]\" : \"royalblue\",\n",
    "                  \"Generación [kW]\" : \"green\"\n",
    "              })\n",
    "fig.update_layout( title = \"Uso vs Generación\", yaxis_title = \"Potencia [kW]\")\n",
    "fig.show()\n",
    "\n",
    "\n"
   ]
  },
  {
   "cell_type": "code",
   "execution_count": null,
   "metadata": {},
   "outputs": [],
   "source": [
    "#### GRÁFICA 2\n",
    "############################################################################################ Delimitar las Columnas a Usar\n",
    "\n",
    "#column4 = [ \"Fecha y Hora\", \"Uso [kW]\", \"Generación [kW]\", \"Fase A [V]\", \"Fase B [V]\"]\n",
    "\n",
    "#data4 = data.drop(column4, axis = 1)\n",
    "\n",
    "#fig = go.Figure(data=[go.Pie(labels=labels, values=values)])\n",
    "#fig.show()\n"
   ]
  },
  {
   "cell_type": "code",
   "execution_count": null,
   "metadata": {},
   "outputs": [],
   "source": []
  }
 ],
 "metadata": {
  "kernelspec": {
   "display_name": "Python 3",
   "language": "python",
   "name": "python3"
  },
  "language_info": {
   "codemirror_mode": {
    "name": "ipython",
    "version": 3
   },
   "file_extension": ".py",
   "mimetype": "text/x-python",
   "name": "python",
   "nbconvert_exporter": "python",
   "pygments_lexer": "ipython3",
   "version": "3.8.3"
  }
 },
 "nbformat": 4,
 "nbformat_minor": 4
}
