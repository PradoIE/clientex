{
 "cells": [
  {
   "cell_type": "code",
   "execution_count": null,
   "metadata": {},
   "outputs": [],
   "source": [
    "############################################################################################ Leer Datos de eGauge\n",
    "\n",
    "import datetime\n",
    "import pandas as pd\n",
    "import numpy as np\n",
    "import plotly.express as px \n",
    "import plotly.graph_objects as go\n",
    "\n",
    "#data = pd.read_csv(\"https://egauge50670.egaug.es/5D1CF/cgi-bin/egauge-show?c&m&n=1440&C\")  \n",
    "data = pd.read_csv(\"https://egauge50670.egaug.es/5D1CF/cgi-bin/egauge-show?c&m&n=20&C\")\n",
    "\n",
    "############################################################################################ Renombrar Nombres de Columnas\n",
    "\n",
    "data = data.rename(columns = {'Date & Time':'Fecha y Hora','Usage [kW]':'Uso [kW]','Generation [kW]':'Generación [kW]'})\n",
    "\n",
    "############################################################################################ Pasar de unidad UNIX a Fecha y Hora\n",
    "\n",
    "data[\"Fecha y Hora\"] = data[\"Fecha y Hora\"].apply(lambda x: datetime.datetime.fromtimestamp(x))\n",
    "data[\"Fecha y Hora\"] = data[\"Fecha y Hora\"].apply(lambda x: x.strftime('%H:%M'))\n",
    "#%Y-%m-%d %H:%M:%S\n",
    "\n",
    "############################################################################################ Usar Únicamente 2 decimales\n",
    "\n",
    "columns = [ \"Uso [kW]\", \"Generación [kW]\",\"Potencia Tablero M + Otros [kW]\",\"Potencia Tablero Principal [kW]\",\n",
    "            \"Potencia Generacion PV [kW]\", \"Potencia Tableros Otros G [kW]\", \"Potencia Tableros Otros P [kW]\",\n",
    "            \"Potencia Tablero AC [kW]\", \"Potencia Tablero AC (+PV) [kW]\", \"Potencia Consumo Total Casa [kW]\",\n",
    "            \"Potencia AC Vinoteca [kW]\", \"Potencia AC Cuarto Principal [kW]\", \"Potencia Tablero AC2 [kW]\",\n",
    "            \"Fase A [V]\", \"Fase B [V]\", \"Potencia Tablero M [kW]\", \"Potencia AC1 (Cine-Gimnasio) [kW]\",\n",
    "            \"Potencia AC3 (DormPri-Dorm3) [kW]\", \"Potencia AC5 (Dorm2-Sala) [kW]\", \"Potencia AC14 (Cuarto TI) [kW]\",\n",
    "            \"Potencia AC2 (Dorm4-5-6) [kW]\",\"Potencia AC4 (Dorm1-Comedor) [kW]\", \"Potencia AC6 (Cocina-SalaPool) [kW]\",\n",
    "            \"Potencia AC8 (Bar) [kW]\", \"Potencia Bomba Agua Potable 1 [kW]\", \"Potencia Tanque Agua Caliente T [kW]\",\n",
    "            \"Potencia Bomba Agua Potable 2 [kW]\"]\n",
    "\n",
    "data[columns] = data[columns].round(2)\n",
    "\n",
    "############################################################################################ Gráficar Todas las Filas y Columnas  \n",
    "\n",
    "pd.set_option(\"display.max_rows\", None, \"display.max_columns\", None)\n",
    "#data.head(20)\n",
    "\n",
    "\n",
    "colum1 = [\"Fase A [V]\", \"Fase B [V]\", \"Potencia Tablero M [kW]\", \"Potencia AC1 (Cine-Gimnasio) [kW]\",\n",
    "            \"Potencia AC3 (DormPri-Dorm3) [kW]\", \"Potencia AC5 (Dorm2-Sala) [kW]\", \"Potencia AC14 (Cuarto TI) [kW]\",\n",
    "            \"Potencia AC2 (Dorm4-5-6) [kW]\",\"Potencia AC4 (Dorm1-Comedor) [kW]\", \"Potencia AC6 (Cocina-SalaPool) [kW]\",\n",
    "            \"Potencia AC8 (Bar) [kW]\", \"Potencia Bomba Agua Potable 1 [kW]\", \"Potencia Tanque Agua Caliente T [kW]\",\n",
    "            \"Potencia Bomba Agua Potable 2 [kW]\"] \n",
    "\n",
    "data1 = data.drop(colum1, axis =1)\n",
    "data1.head(20)"
   ]
  },
  {
   "cell_type": "code",
   "execution_count": null,
   "metadata": {},
   "outputs": [],
   "source": [
    "colum2 = [\"Uso [kW]\", \"Generación [kW]\",\"Potencia Tablero M + Otros [kW]\",\"Potencia Tablero Principal [kW]\",\n",
    "            \"Potencia Generacion PV [kW]\", \"Potencia Tableros Otros G [kW]\", \"Potencia Tableros Otros P [kW]\",\n",
    "            \"Potencia Tablero AC [kW]\", \"Potencia Tablero AC (+PV) [kW]\", \"Potencia Consumo Total Casa [kW]\",\n",
    "            \"Potencia AC Vinoteca [kW]\", \"Potencia AC Cuarto Principal [kW]\", \"Potencia Tablero AC2 [kW]\"] \n",
    "\n",
    "data2 = data.drop(colum2, axis =1)\n",
    "data2.head(20)"
   ]
  },
  {
   "cell_type": "code",
   "execution_count": null,
   "metadata": {
    "scrolled": true
   },
   "outputs": [],
   "source": [
    "############################################################################################ Gráfica\n",
    "\n",
    "############################################################################################ Invertir la Columna de Fecha y Hora\n",
    "\n",
    "data[\"Fecha y Hora\"] = data[\"Fecha y Hora\"].values[::-1]\n",
    "\n",
    "#fig = px.scatter(data.head(10), x = 'Fecha y Hora', y =  'Uso [kW]',\n",
    "                 #size= 'Uso [kW]', color = 'Fecha y Hora' ,size_max = 10)\n",
    "#fig.update_layout()\n",
    "\n",
    "fig = go.Figure([go.Scatter(x=data['Fecha y Hora'], y=data['Uso [kW]'])])\n",
    "fig.show()"
   ]
  },
  {
   "cell_type": "code",
   "execution_count": null,
   "metadata": {},
   "outputs": [],
   "source": []
  }
 ],
 "metadata": {
  "kernelspec": {
   "display_name": "Python 3",
   "language": "python",
   "name": "python3"
  },
  "language_info": {
   "codemirror_mode": {
    "name": "ipython",
    "version": 3
   },
   "file_extension": ".py",
   "mimetype": "text/x-python",
   "name": "python",
   "nbconvert_exporter": "python",
   "pygments_lexer": "ipython3",
   "version": "3.8.3"
  }
 },
 "nbformat": 4,
 "nbformat_minor": 4
}
