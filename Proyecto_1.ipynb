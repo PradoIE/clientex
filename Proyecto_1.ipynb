{
 "cells": [
  {
   "cell_type": "code",
   "execution_count": 1,
   "metadata": {},
   "outputs": [],
   "source": [
    "############################################################################################ Leer datos de eGauge\n",
    "\n",
    "import datetime\n",
    "import pandas as pd\n",
    "import numpy as np\n",
    "import plotly.express as px \n",
    "\n",
    "data = pd.read_csv(\"https://egauge50670.egaug.es/5D1CF/cgi-bin/egauge-show?c&a\")\n",
    "#data = pd.read_csv(\"https://egauge50670.egaug.es/5D1CF/cgi-bin/egauge?tot\")\n",
    "\n",
    "data = data.rename(columns = {'Date & Time':'Fecha y Hora','Usage [kWh]':'Uso [kWh]'})\n",
    "\n",
    "#data.head()\n",
    "#print(data)"
   ]
  },
  {
   "cell_type": "code",
   "execution_count": 2,
   "metadata": {
    "scrolled": false
   },
   "outputs": [
    {
     "data": {
      "text/html": [
       "<div>\n",
       "<style scoped>\n",
       "    .dataframe tbody tr th:only-of-type {\n",
       "        vertical-align: middle;\n",
       "    }\n",
       "\n",
       "    .dataframe tbody tr th {\n",
       "        vertical-align: top;\n",
       "    }\n",
       "\n",
       "    .dataframe thead th {\n",
       "        text-align: right;\n",
       "    }\n",
       "</style>\n",
       "<table border=\"1\" class=\"dataframe\">\n",
       "  <thead>\n",
       "    <tr style=\"text-align: right;\">\n",
       "      <th></th>\n",
       "      <th>Fecha y Hora</th>\n",
       "      <th>Uso [kWh]</th>\n",
       "      <th>Generation [kWh]</th>\n",
       "      <th>Potencia Tablero M + Otros [kWh]</th>\n",
       "      <th>Potencia Tablero Principal [kWh]</th>\n",
       "      <th>Potencia Generacion PV [kWh]</th>\n",
       "      <th>Potencia Tableros Otros G [kWh]</th>\n",
       "      <th>Potencia Tableros Otros P [kWh]</th>\n",
       "      <th>Potencia Tablero AC [kWh]</th>\n",
       "      <th>Potencia Tablero AC (+PV) [kWh]</th>\n",
       "      <th>...</th>\n",
       "      <th>Potencia AC3 (DormPri-Dorm3) [kWh]</th>\n",
       "      <th>Potencia AC5 (Dorm2-Sala) [kWh]</th>\n",
       "      <th>Potencia AC14 (Cuarto TI) [kWh]</th>\n",
       "      <th>Potencia AC2 (Dorm4-5-6) [kWh]</th>\n",
       "      <th>Potencia AC4 (Dorm1-Comedor) [kWh]</th>\n",
       "      <th>Potencia AC6 (Cocina-SalaPool) [kWh]</th>\n",
       "      <th>Potencia AC8 (Bar) [kWh]</th>\n",
       "      <th>Potencia Bomba Agua Potable 1 [kWh]</th>\n",
       "      <th>Potencia Tanque Agua Caliente T [kWh]</th>\n",
       "      <th>Potencia Bomba Agua Potable 2 [kWh]</th>\n",
       "    </tr>\n",
       "  </thead>\n",
       "  <tbody>\n",
       "    <tr>\n",
       "      <th>0</th>\n",
       "      <td>04/29 18:00</td>\n",
       "      <td>173924.427392</td>\n",
       "      <td>66365.908848</td>\n",
       "      <td>24122.110948</td>\n",
       "      <td>107566.107439</td>\n",
       "      <td>66365.908848</td>\n",
       "      <td>46062.882296</td>\n",
       "      <td>21658.700091</td>\n",
       "      <td>70394.976235</td>\n",
       "      <td>3994.793545</td>\n",
       "      <td>...</td>\n",
       "      <td>3219.178110</td>\n",
       "      <td>1162.234842</td>\n",
       "      <td>1390.214371</td>\n",
       "      <td>4078.597644</td>\n",
       "      <td>-882.871456</td>\n",
       "      <td>3158.377191</td>\n",
       "      <td>416.178755</td>\n",
       "      <td>4.542357</td>\n",
       "      <td>134.268219</td>\n",
       "      <td>963.743000</td>\n",
       "    </tr>\n",
       "    <tr>\n",
       "      <th>1</th>\n",
       "      <td>04/28 18:00</td>\n",
       "      <td>173624.866482</td>\n",
       "      <td>66301.454578</td>\n",
       "      <td>24070.748162</td>\n",
       "      <td>107331.000800</td>\n",
       "      <td>66301.454578</td>\n",
       "      <td>45991.359517</td>\n",
       "      <td>21634.685127</td>\n",
       "      <td>70264.376916</td>\n",
       "      <td>3928.648497</td>\n",
       "      <td>...</td>\n",
       "      <td>3166.733866</td>\n",
       "      <td>1161.665420</td>\n",
       "      <td>1382.459007</td>\n",
       "      <td>4069.726194</td>\n",
       "      <td>-878.618381</td>\n",
       "      <td>3123.992227</td>\n",
       "      <td>412.089099</td>\n",
       "      <td>4.521436</td>\n",
       "      <td>128.039811</td>\n",
       "      <td>958.186547</td>\n",
       "    </tr>\n",
       "    <tr>\n",
       "      <th>2</th>\n",
       "      <td>04/27 18:00</td>\n",
       "      <td>173434.898020</td>\n",
       "      <td>66186.438835</td>\n",
       "      <td>24041.097807</td>\n",
       "      <td>107256.048080</td>\n",
       "      <td>66186.438835</td>\n",
       "      <td>45932.001830</td>\n",
       "      <td>21615.486958</td>\n",
       "      <td>70200.728870</td>\n",
       "      <td>3980.016193</td>\n",
       "      <td>...</td>\n",
       "      <td>3166.261159</td>\n",
       "      <td>1161.198759</td>\n",
       "      <td>1375.645084</td>\n",
       "      <td>4062.460288</td>\n",
       "      <td>-878.231124</td>\n",
       "      <td>3109.415366</td>\n",
       "      <td>408.621946</td>\n",
       "      <td>4.497277</td>\n",
       "      <td>127.488671</td>\n",
       "      <td>947.461903</td>\n",
       "    </tr>\n",
       "  </tbody>\n",
       "</table>\n",
       "<p>3 rows × 28 columns</p>\n",
       "</div>"
      ],
      "text/plain": [
       "  Fecha y Hora      Uso [kWh]  Generation [kWh]  \\\n",
       "0  04/29 18:00  173924.427392      66365.908848   \n",
       "1  04/28 18:00  173624.866482      66301.454578   \n",
       "2  04/27 18:00  173434.898020      66186.438835   \n",
       "\n",
       "   Potencia Tablero M + Otros [kWh]  Potencia Tablero Principal [kWh]  \\\n",
       "0                      24122.110948                     107566.107439   \n",
       "1                      24070.748162                     107331.000800   \n",
       "2                      24041.097807                     107256.048080   \n",
       "\n",
       "   Potencia Generacion PV [kWh]  Potencia Tableros Otros G [kWh]  \\\n",
       "0                  66365.908848                     46062.882296   \n",
       "1                  66301.454578                     45991.359517   \n",
       "2                  66186.438835                     45932.001830   \n",
       "\n",
       "   Potencia Tableros Otros P [kWh]  Potencia Tablero AC [kWh]  \\\n",
       "0                     21658.700091               70394.976235   \n",
       "1                     21634.685127               70264.376916   \n",
       "2                     21615.486958               70200.728870   \n",
       "\n",
       "   Potencia Tablero AC (+PV) [kWh]  ...  Potencia AC3 (DormPri-Dorm3) [kWh]  \\\n",
       "0                      3994.793545  ...                         3219.178110   \n",
       "1                      3928.648497  ...                         3166.733866   \n",
       "2                      3980.016193  ...                         3166.261159   \n",
       "\n",
       "   Potencia AC5 (Dorm2-Sala) [kWh]  Potencia AC14 (Cuarto TI) [kWh]  \\\n",
       "0                      1162.234842                      1390.214371   \n",
       "1                      1161.665420                      1382.459007   \n",
       "2                      1161.198759                      1375.645084   \n",
       "\n",
       "   Potencia AC2 (Dorm4-5-6) [kWh]  Potencia AC4 (Dorm1-Comedor) [kWh]  \\\n",
       "0                     4078.597644                         -882.871456   \n",
       "1                     4069.726194                         -878.618381   \n",
       "2                     4062.460288                         -878.231124   \n",
       "\n",
       "   Potencia AC6 (Cocina-SalaPool) [kWh]  Potencia AC8 (Bar) [kWh]  \\\n",
       "0                           3158.377191                416.178755   \n",
       "1                           3123.992227                412.089099   \n",
       "2                           3109.415366                408.621946   \n",
       "\n",
       "   Potencia Bomba Agua Potable 1 [kWh]  Potencia Tanque Agua Caliente T [kWh]  \\\n",
       "0                             4.542357                             134.268219   \n",
       "1                             4.521436                             128.039811   \n",
       "2                             4.497277                             127.488671   \n",
       "\n",
       "   Potencia Bomba Agua Potable 2 [kWh]  \n",
       "0                           963.743000  \n",
       "1                           958.186547  \n",
       "2                           947.461903  \n",
       "\n",
       "[3 rows x 28 columns]"
      ]
     },
     "execution_count": 2,
     "metadata": {},
     "output_type": "execute_result"
    }
   ],
   "source": [
    "############################################################################################ UNIX TIME\n",
    "\n",
    "data[\"Fecha y Hora\"] = data[\"Fecha y Hora\"].apply(lambda x: datetime.datetime.fromtimestamp(x))\n",
    "data[\"Fecha y Hora\"] = data[\"Fecha y Hora\"].apply(lambda x: x.strftime('%m/%d %H:%M'))\n",
    "data.head(3)"
   ]
  },
  {
   "cell_type": "code",
   "execution_count": 8,
   "metadata": {},
   "outputs": [
    {
     "data": {
      "application/vnd.plotly.v1+json": {
       "config": {
        "plotlyServerURL": "https://plot.ly"
       },
       "data": [
        {
         "hovertemplate": "Fecha y Hora=%{x}<br>Uso [kWh]=%{marker.size}<extra></extra>",
         "legendgroup": "04/29 18:00",
         "marker": {
          "color": "#636efa",
          "size": [
           173924.427392222
          ],
          "sizemode": "area",
          "sizeref": 48.31234094228388,
          "symbol": "circle"
         },
         "mode": "markers",
         "name": "04/29 18:00",
         "orientation": "v",
         "showlegend": true,
         "type": "scatter",
         "x": [
          "04/29 18:00"
         ],
         "xaxis": "x",
         "y": [
          173924.427392222
         ],
         "yaxis": "y"
        },
        {
         "hovertemplate": "Fecha y Hora=%{x}<br>Uso [kWh]=%{marker.size}<extra></extra>",
         "legendgroup": "04/28 18:00",
         "marker": {
          "color": "#EF553B",
          "size": [
           173624.8664825
          ],
          "sizemode": "area",
          "sizeref": 48.31234094228388,
          "symbol": "circle"
         },
         "mode": "markers",
         "name": "04/28 18:00",
         "orientation": "v",
         "showlegend": true,
         "type": "scatter",
         "x": [
          "04/28 18:00"
         ],
         "xaxis": "x",
         "y": [
          173624.8664825
         ],
         "yaxis": "y"
        },
        {
         "hovertemplate": "Fecha y Hora=%{x}<br>Uso [kWh]=%{marker.size}<extra></extra>",
         "legendgroup": "04/27 18:00",
         "marker": {
          "color": "#00cc96",
          "size": [
           173434.89802027802
          ],
          "sizemode": "area",
          "sizeref": 48.31234094228388,
          "symbol": "circle"
         },
         "mode": "markers",
         "name": "04/27 18:00",
         "orientation": "v",
         "showlegend": true,
         "type": "scatter",
         "x": [
          "04/27 18:00"
         ],
         "xaxis": "x",
         "y": [
          173434.89802027802
         ],
         "yaxis": "y"
        },
        {
         "hovertemplate": "Fecha y Hora=%{x}<br>Uso [kWh]=%{marker.size}<extra></extra>",
         "legendgroup": "04/26 18:00",
         "marker": {
          "color": "#ab63fa",
          "size": [
           173225.39938333302
          ],
          "sizemode": "area",
          "sizeref": 48.31234094228388,
          "symbol": "circle"
         },
         "mode": "markers",
         "name": "04/26 18:00",
         "orientation": "v",
         "showlegend": true,
         "type": "scatter",
         "x": [
          "04/26 18:00"
         ],
         "xaxis": "x",
         "y": [
          173225.39938333302
         ],
         "yaxis": "y"
        },
        {
         "hovertemplate": "Fecha y Hora=%{x}<br>Uso [kWh]=%{marker.size}<extra></extra>",
         "legendgroup": "04/25 18:00",
         "marker": {
          "color": "#FFA15A",
          "size": [
           172934.59838527802
          ],
          "sizemode": "area",
          "sizeref": 48.31234094228388,
          "symbol": "circle"
         },
         "mode": "markers",
         "name": "04/25 18:00",
         "orientation": "v",
         "showlegend": true,
         "type": "scatter",
         "x": [
          "04/25 18:00"
         ],
         "xaxis": "x",
         "y": [
          172934.59838527802
         ],
         "yaxis": "y"
        },
        {
         "hovertemplate": "Fecha y Hora=%{x}<br>Uso [kWh]=%{marker.size}<extra></extra>",
         "legendgroup": "04/24 18:00",
         "marker": {
          "color": "#19d3f3",
          "size": [
           172605.564274167
          ],
          "sizemode": "area",
          "sizeref": 48.31234094228388,
          "symbol": "circle"
         },
         "mode": "markers",
         "name": "04/24 18:00",
         "orientation": "v",
         "showlegend": true,
         "type": "scatter",
         "x": [
          "04/24 18:00"
         ],
         "xaxis": "x",
         "y": [
          172605.564274167
         ],
         "yaxis": "y"
        },
        {
         "hovertemplate": "Fecha y Hora=%{x}<br>Uso [kWh]=%{marker.size}<extra></extra>",
         "legendgroup": "04/23 18:00",
         "marker": {
          "color": "#FF6692",
          "size": [
           172230.757506667
          ],
          "sizemode": "area",
          "sizeref": 48.31234094228388,
          "symbol": "circle"
         },
         "mode": "markers",
         "name": "04/23 18:00",
         "orientation": "v",
         "showlegend": true,
         "type": "scatter",
         "x": [
          "04/23 18:00"
         ],
         "xaxis": "x",
         "y": [
          172230.757506667
         ],
         "yaxis": "y"
        },
        {
         "hovertemplate": "Fecha y Hora=%{x}<br>Uso [kWh]=%{marker.size}<extra></extra>",
         "legendgroup": "04/22 18:00",
         "marker": {
          "color": "#B6E880",
          "size": [
           171932.770070833
          ],
          "sizemode": "area",
          "sizeref": 48.31234094228388,
          "symbol": "circle"
         },
         "mode": "markers",
         "name": "04/22 18:00",
         "orientation": "v",
         "showlegend": true,
         "type": "scatter",
         "x": [
          "04/22 18:00"
         ],
         "xaxis": "x",
         "y": [
          171932.770070833
         ],
         "yaxis": "y"
        },
        {
         "hovertemplate": "Fecha y Hora=%{x}<br>Uso [kWh]=%{marker.size}<extra></extra>",
         "legendgroup": "04/21 18:00",
         "marker": {
          "color": "#FF97FF",
          "size": [
           171625.7221675
          ],
          "sizemode": "area",
          "sizeref": 48.31234094228388,
          "symbol": "circle"
         },
         "mode": "markers",
         "name": "04/21 18:00",
         "orientation": "v",
         "showlegend": true,
         "type": "scatter",
         "x": [
          "04/21 18:00"
         ],
         "xaxis": "x",
         "y": [
          171625.7221675
         ],
         "yaxis": "y"
        },
        {
         "hovertemplate": "Fecha y Hora=%{x}<br>Uso [kWh]=%{marker.size}<extra></extra>",
         "legendgroup": "04/20 18:00",
         "marker": {
          "color": "#FECB52",
          "size": [
           171346.2951025
          ],
          "sizemode": "area",
          "sizeref": 48.31234094228388,
          "symbol": "circle"
         },
         "mode": "markers",
         "name": "04/20 18:00",
         "orientation": "v",
         "showlegend": true,
         "type": "scatter",
         "x": [
          "04/20 18:00"
         ],
         "xaxis": "x",
         "y": [
          171346.2951025
         ],
         "yaxis": "y"
        }
       ],
       "layout": {
        "legend": {
         "itemsizing": "constant",
         "title": {
          "text": "Fecha y Hora"
         },
         "tracegroupgap": 0
        },
        "margin": {
         "t": 60
        },
        "template": {
         "data": {
          "bar": [
           {
            "error_x": {
             "color": "#2a3f5f"
            },
            "error_y": {
             "color": "#2a3f5f"
            },
            "marker": {
             "line": {
              "color": "#E5ECF6",
              "width": 0.5
             }
            },
            "type": "bar"
           }
          ],
          "barpolar": [
           {
            "marker": {
             "line": {
              "color": "#E5ECF6",
              "width": 0.5
             }
            },
            "type": "barpolar"
           }
          ],
          "carpet": [
           {
            "aaxis": {
             "endlinecolor": "#2a3f5f",
             "gridcolor": "white",
             "linecolor": "white",
             "minorgridcolor": "white",
             "startlinecolor": "#2a3f5f"
            },
            "baxis": {
             "endlinecolor": "#2a3f5f",
             "gridcolor": "white",
             "linecolor": "white",
             "minorgridcolor": "white",
             "startlinecolor": "#2a3f5f"
            },
            "type": "carpet"
           }
          ],
          "choropleth": [
           {
            "colorbar": {
             "outlinewidth": 0,
             "ticks": ""
            },
            "type": "choropleth"
           }
          ],
          "contour": [
           {
            "colorbar": {
             "outlinewidth": 0,
             "ticks": ""
            },
            "colorscale": [
             [
              0,
              "#0d0887"
             ],
             [
              0.1111111111111111,
              "#46039f"
             ],
             [
              0.2222222222222222,
              "#7201a8"
             ],
             [
              0.3333333333333333,
              "#9c179e"
             ],
             [
              0.4444444444444444,
              "#bd3786"
             ],
             [
              0.5555555555555556,
              "#d8576b"
             ],
             [
              0.6666666666666666,
              "#ed7953"
             ],
             [
              0.7777777777777778,
              "#fb9f3a"
             ],
             [
              0.8888888888888888,
              "#fdca26"
             ],
             [
              1,
              "#f0f921"
             ]
            ],
            "type": "contour"
           }
          ],
          "contourcarpet": [
           {
            "colorbar": {
             "outlinewidth": 0,
             "ticks": ""
            },
            "type": "contourcarpet"
           }
          ],
          "heatmap": [
           {
            "colorbar": {
             "outlinewidth": 0,
             "ticks": ""
            },
            "colorscale": [
             [
              0,
              "#0d0887"
             ],
             [
              0.1111111111111111,
              "#46039f"
             ],
             [
              0.2222222222222222,
              "#7201a8"
             ],
             [
              0.3333333333333333,
              "#9c179e"
             ],
             [
              0.4444444444444444,
              "#bd3786"
             ],
             [
              0.5555555555555556,
              "#d8576b"
             ],
             [
              0.6666666666666666,
              "#ed7953"
             ],
             [
              0.7777777777777778,
              "#fb9f3a"
             ],
             [
              0.8888888888888888,
              "#fdca26"
             ],
             [
              1,
              "#f0f921"
             ]
            ],
            "type": "heatmap"
           }
          ],
          "heatmapgl": [
           {
            "colorbar": {
             "outlinewidth": 0,
             "ticks": ""
            },
            "colorscale": [
             [
              0,
              "#0d0887"
             ],
             [
              0.1111111111111111,
              "#46039f"
             ],
             [
              0.2222222222222222,
              "#7201a8"
             ],
             [
              0.3333333333333333,
              "#9c179e"
             ],
             [
              0.4444444444444444,
              "#bd3786"
             ],
             [
              0.5555555555555556,
              "#d8576b"
             ],
             [
              0.6666666666666666,
              "#ed7953"
             ],
             [
              0.7777777777777778,
              "#fb9f3a"
             ],
             [
              0.8888888888888888,
              "#fdca26"
             ],
             [
              1,
              "#f0f921"
             ]
            ],
            "type": "heatmapgl"
           }
          ],
          "histogram": [
           {
            "marker": {
             "colorbar": {
              "outlinewidth": 0,
              "ticks": ""
             }
            },
            "type": "histogram"
           }
          ],
          "histogram2d": [
           {
            "colorbar": {
             "outlinewidth": 0,
             "ticks": ""
            },
            "colorscale": [
             [
              0,
              "#0d0887"
             ],
             [
              0.1111111111111111,
              "#46039f"
             ],
             [
              0.2222222222222222,
              "#7201a8"
             ],
             [
              0.3333333333333333,
              "#9c179e"
             ],
             [
              0.4444444444444444,
              "#bd3786"
             ],
             [
              0.5555555555555556,
              "#d8576b"
             ],
             [
              0.6666666666666666,
              "#ed7953"
             ],
             [
              0.7777777777777778,
              "#fb9f3a"
             ],
             [
              0.8888888888888888,
              "#fdca26"
             ],
             [
              1,
              "#f0f921"
             ]
            ],
            "type": "histogram2d"
           }
          ],
          "histogram2dcontour": [
           {
            "colorbar": {
             "outlinewidth": 0,
             "ticks": ""
            },
            "colorscale": [
             [
              0,
              "#0d0887"
             ],
             [
              0.1111111111111111,
              "#46039f"
             ],
             [
              0.2222222222222222,
              "#7201a8"
             ],
             [
              0.3333333333333333,
              "#9c179e"
             ],
             [
              0.4444444444444444,
              "#bd3786"
             ],
             [
              0.5555555555555556,
              "#d8576b"
             ],
             [
              0.6666666666666666,
              "#ed7953"
             ],
             [
              0.7777777777777778,
              "#fb9f3a"
             ],
             [
              0.8888888888888888,
              "#fdca26"
             ],
             [
              1,
              "#f0f921"
             ]
            ],
            "type": "histogram2dcontour"
           }
          ],
          "mesh3d": [
           {
            "colorbar": {
             "outlinewidth": 0,
             "ticks": ""
            },
            "type": "mesh3d"
           }
          ],
          "parcoords": [
           {
            "line": {
             "colorbar": {
              "outlinewidth": 0,
              "ticks": ""
             }
            },
            "type": "parcoords"
           }
          ],
          "pie": [
           {
            "automargin": true,
            "type": "pie"
           }
          ],
          "scatter": [
           {
            "marker": {
             "colorbar": {
              "outlinewidth": 0,
              "ticks": ""
             }
            },
            "type": "scatter"
           }
          ],
          "scatter3d": [
           {
            "line": {
             "colorbar": {
              "outlinewidth": 0,
              "ticks": ""
             }
            },
            "marker": {
             "colorbar": {
              "outlinewidth": 0,
              "ticks": ""
             }
            },
            "type": "scatter3d"
           }
          ],
          "scattercarpet": [
           {
            "marker": {
             "colorbar": {
              "outlinewidth": 0,
              "ticks": ""
             }
            },
            "type": "scattercarpet"
           }
          ],
          "scattergeo": [
           {
            "marker": {
             "colorbar": {
              "outlinewidth": 0,
              "ticks": ""
             }
            },
            "type": "scattergeo"
           }
          ],
          "scattergl": [
           {
            "marker": {
             "colorbar": {
              "outlinewidth": 0,
              "ticks": ""
             }
            },
            "type": "scattergl"
           }
          ],
          "scattermapbox": [
           {
            "marker": {
             "colorbar": {
              "outlinewidth": 0,
              "ticks": ""
             }
            },
            "type": "scattermapbox"
           }
          ],
          "scatterpolar": [
           {
            "marker": {
             "colorbar": {
              "outlinewidth": 0,
              "ticks": ""
             }
            },
            "type": "scatterpolar"
           }
          ],
          "scatterpolargl": [
           {
            "marker": {
             "colorbar": {
              "outlinewidth": 0,
              "ticks": ""
             }
            },
            "type": "scatterpolargl"
           }
          ],
          "scatterternary": [
           {
            "marker": {
             "colorbar": {
              "outlinewidth": 0,
              "ticks": ""
             }
            },
            "type": "scatterternary"
           }
          ],
          "surface": [
           {
            "colorbar": {
             "outlinewidth": 0,
             "ticks": ""
            },
            "colorscale": [
             [
              0,
              "#0d0887"
             ],
             [
              0.1111111111111111,
              "#46039f"
             ],
             [
              0.2222222222222222,
              "#7201a8"
             ],
             [
              0.3333333333333333,
              "#9c179e"
             ],
             [
              0.4444444444444444,
              "#bd3786"
             ],
             [
              0.5555555555555556,
              "#d8576b"
             ],
             [
              0.6666666666666666,
              "#ed7953"
             ],
             [
              0.7777777777777778,
              "#fb9f3a"
             ],
             [
              0.8888888888888888,
              "#fdca26"
             ],
             [
              1,
              "#f0f921"
             ]
            ],
            "type": "surface"
           }
          ],
          "table": [
           {
            "cells": {
             "fill": {
              "color": "#EBF0F8"
             },
             "line": {
              "color": "white"
             }
            },
            "header": {
             "fill": {
              "color": "#C8D4E3"
             },
             "line": {
              "color": "white"
             }
            },
            "type": "table"
           }
          ]
         },
         "layout": {
          "annotationdefaults": {
           "arrowcolor": "#2a3f5f",
           "arrowhead": 0,
           "arrowwidth": 1
          },
          "autotypenumbers": "strict",
          "coloraxis": {
           "colorbar": {
            "outlinewidth": 0,
            "ticks": ""
           }
          },
          "colorscale": {
           "diverging": [
            [
             0,
             "#8e0152"
            ],
            [
             0.1,
             "#c51b7d"
            ],
            [
             0.2,
             "#de77ae"
            ],
            [
             0.3,
             "#f1b6da"
            ],
            [
             0.4,
             "#fde0ef"
            ],
            [
             0.5,
             "#f7f7f7"
            ],
            [
             0.6,
             "#e6f5d0"
            ],
            [
             0.7,
             "#b8e186"
            ],
            [
             0.8,
             "#7fbc41"
            ],
            [
             0.9,
             "#4d9221"
            ],
            [
             1,
             "#276419"
            ]
           ],
           "sequential": [
            [
             0,
             "#0d0887"
            ],
            [
             0.1111111111111111,
             "#46039f"
            ],
            [
             0.2222222222222222,
             "#7201a8"
            ],
            [
             0.3333333333333333,
             "#9c179e"
            ],
            [
             0.4444444444444444,
             "#bd3786"
            ],
            [
             0.5555555555555556,
             "#d8576b"
            ],
            [
             0.6666666666666666,
             "#ed7953"
            ],
            [
             0.7777777777777778,
             "#fb9f3a"
            ],
            [
             0.8888888888888888,
             "#fdca26"
            ],
            [
             1,
             "#f0f921"
            ]
           ],
           "sequentialminus": [
            [
             0,
             "#0d0887"
            ],
            [
             0.1111111111111111,
             "#46039f"
            ],
            [
             0.2222222222222222,
             "#7201a8"
            ],
            [
             0.3333333333333333,
             "#9c179e"
            ],
            [
             0.4444444444444444,
             "#bd3786"
            ],
            [
             0.5555555555555556,
             "#d8576b"
            ],
            [
             0.6666666666666666,
             "#ed7953"
            ],
            [
             0.7777777777777778,
             "#fb9f3a"
            ],
            [
             0.8888888888888888,
             "#fdca26"
            ],
            [
             1,
             "#f0f921"
            ]
           ]
          },
          "colorway": [
           "#636efa",
           "#EF553B",
           "#00cc96",
           "#ab63fa",
           "#FFA15A",
           "#19d3f3",
           "#FF6692",
           "#B6E880",
           "#FF97FF",
           "#FECB52"
          ],
          "font": {
           "color": "#2a3f5f"
          },
          "geo": {
           "bgcolor": "white",
           "lakecolor": "white",
           "landcolor": "#E5ECF6",
           "showlakes": true,
           "showland": true,
           "subunitcolor": "white"
          },
          "hoverlabel": {
           "align": "left"
          },
          "hovermode": "closest",
          "mapbox": {
           "style": "light"
          },
          "paper_bgcolor": "white",
          "plot_bgcolor": "#E5ECF6",
          "polar": {
           "angularaxis": {
            "gridcolor": "white",
            "linecolor": "white",
            "ticks": ""
           },
           "bgcolor": "#E5ECF6",
           "radialaxis": {
            "gridcolor": "white",
            "linecolor": "white",
            "ticks": ""
           }
          },
          "scene": {
           "xaxis": {
            "backgroundcolor": "#E5ECF6",
            "gridcolor": "white",
            "gridwidth": 2,
            "linecolor": "white",
            "showbackground": true,
            "ticks": "",
            "zerolinecolor": "white"
           },
           "yaxis": {
            "backgroundcolor": "#E5ECF6",
            "gridcolor": "white",
            "gridwidth": 2,
            "linecolor": "white",
            "showbackground": true,
            "ticks": "",
            "zerolinecolor": "white"
           },
           "zaxis": {
            "backgroundcolor": "#E5ECF6",
            "gridcolor": "white",
            "gridwidth": 2,
            "linecolor": "white",
            "showbackground": true,
            "ticks": "",
            "zerolinecolor": "white"
           }
          },
          "shapedefaults": {
           "line": {
            "color": "#2a3f5f"
           }
          },
          "ternary": {
           "aaxis": {
            "gridcolor": "white",
            "linecolor": "white",
            "ticks": ""
           },
           "baxis": {
            "gridcolor": "white",
            "linecolor": "white",
            "ticks": ""
           },
           "bgcolor": "#E5ECF6",
           "caxis": {
            "gridcolor": "white",
            "linecolor": "white",
            "ticks": ""
           }
          },
          "title": {
           "x": 0.05
          },
          "xaxis": {
           "automargin": true,
           "gridcolor": "white",
           "linecolor": "white",
           "ticks": "",
           "title": {
            "standoff": 15
           },
           "zerolinecolor": "white",
           "zerolinewidth": 2
          },
          "yaxis": {
           "automargin": true,
           "gridcolor": "white",
           "linecolor": "white",
           "ticks": "",
           "title": {
            "standoff": 15
           },
           "zerolinecolor": "white",
           "zerolinewidth": 2
          }
         }
        },
        "xaxis": {
         "anchor": "y",
         "categoryarray": [
          "04/29 18:00",
          "04/28 18:00",
          "04/27 18:00",
          "04/26 18:00",
          "04/25 18:00",
          "04/24 18:00",
          "04/23 18:00",
          "04/22 18:00",
          "04/21 18:00",
          "04/20 18:00"
         ],
         "categoryorder": "array",
         "domain": [
          0,
          1
         ],
         "title": {
          "text": "Fecha y Hora"
         }
        },
        "yaxis": {
         "anchor": "x",
         "domain": [
          0,
          1
         ],
         "title": {
          "text": "Uso [kWh]"
         }
        }
       }
      },
      "text/html": [
       "<div>                            <div id=\"581585a9-a915-41fd-a2f1-80abacf789a8\" class=\"plotly-graph-div\" style=\"height:525px; width:100%;\"></div>            <script type=\"text/javascript\">                require([\"plotly\"], function(Plotly) {                    window.PLOTLYENV=window.PLOTLYENV || {};                                    if (document.getElementById(\"581585a9-a915-41fd-a2f1-80abacf789a8\")) {                    Plotly.newPlot(                        \"581585a9-a915-41fd-a2f1-80abacf789a8\",                        [{\"hovertemplate\": \"Fecha y Hora=%{x}<br>Uso [kWh]=%{marker.size}<extra></extra>\", \"legendgroup\": \"04/29 18:00\", \"marker\": {\"color\": \"#636efa\", \"size\": [173924.427392222], \"sizemode\": \"area\", \"sizeref\": 48.31234094228388, \"symbol\": \"circle\"}, \"mode\": \"markers\", \"name\": \"04/29 18:00\", \"orientation\": \"v\", \"showlegend\": true, \"type\": \"scatter\", \"x\": [\"04/29 18:00\"], \"xaxis\": \"x\", \"y\": [173924.427392222], \"yaxis\": \"y\"}, {\"hovertemplate\": \"Fecha y Hora=%{x}<br>Uso [kWh]=%{marker.size}<extra></extra>\", \"legendgroup\": \"04/28 18:00\", \"marker\": {\"color\": \"#EF553B\", \"size\": [173624.8664825], \"sizemode\": \"area\", \"sizeref\": 48.31234094228388, \"symbol\": \"circle\"}, \"mode\": \"markers\", \"name\": \"04/28 18:00\", \"orientation\": \"v\", \"showlegend\": true, \"type\": \"scatter\", \"x\": [\"04/28 18:00\"], \"xaxis\": \"x\", \"y\": [173624.8664825], \"yaxis\": \"y\"}, {\"hovertemplate\": \"Fecha y Hora=%{x}<br>Uso [kWh]=%{marker.size}<extra></extra>\", \"legendgroup\": \"04/27 18:00\", \"marker\": {\"color\": \"#00cc96\", \"size\": [173434.89802027802], \"sizemode\": \"area\", \"sizeref\": 48.31234094228388, \"symbol\": \"circle\"}, \"mode\": \"markers\", \"name\": \"04/27 18:00\", \"orientation\": \"v\", \"showlegend\": true, \"type\": \"scatter\", \"x\": [\"04/27 18:00\"], \"xaxis\": \"x\", \"y\": [173434.89802027802], \"yaxis\": \"y\"}, {\"hovertemplate\": \"Fecha y Hora=%{x}<br>Uso [kWh]=%{marker.size}<extra></extra>\", \"legendgroup\": \"04/26 18:00\", \"marker\": {\"color\": \"#ab63fa\", \"size\": [173225.39938333302], \"sizemode\": \"area\", \"sizeref\": 48.31234094228388, \"symbol\": \"circle\"}, \"mode\": \"markers\", \"name\": \"04/26 18:00\", \"orientation\": \"v\", \"showlegend\": true, \"type\": \"scatter\", \"x\": [\"04/26 18:00\"], \"xaxis\": \"x\", \"y\": [173225.39938333302], \"yaxis\": \"y\"}, {\"hovertemplate\": \"Fecha y Hora=%{x}<br>Uso [kWh]=%{marker.size}<extra></extra>\", \"legendgroup\": \"04/25 18:00\", \"marker\": {\"color\": \"#FFA15A\", \"size\": [172934.59838527802], \"sizemode\": \"area\", \"sizeref\": 48.31234094228388, \"symbol\": \"circle\"}, \"mode\": \"markers\", \"name\": \"04/25 18:00\", \"orientation\": \"v\", \"showlegend\": true, \"type\": \"scatter\", \"x\": [\"04/25 18:00\"], \"xaxis\": \"x\", \"y\": [172934.59838527802], \"yaxis\": \"y\"}, {\"hovertemplate\": \"Fecha y Hora=%{x}<br>Uso [kWh]=%{marker.size}<extra></extra>\", \"legendgroup\": \"04/24 18:00\", \"marker\": {\"color\": \"#19d3f3\", \"size\": [172605.564274167], \"sizemode\": \"area\", \"sizeref\": 48.31234094228388, \"symbol\": \"circle\"}, \"mode\": \"markers\", \"name\": \"04/24 18:00\", \"orientation\": \"v\", \"showlegend\": true, \"type\": \"scatter\", \"x\": [\"04/24 18:00\"], \"xaxis\": \"x\", \"y\": [172605.564274167], \"yaxis\": \"y\"}, {\"hovertemplate\": \"Fecha y Hora=%{x}<br>Uso [kWh]=%{marker.size}<extra></extra>\", \"legendgroup\": \"04/23 18:00\", \"marker\": {\"color\": \"#FF6692\", \"size\": [172230.757506667], \"sizemode\": \"area\", \"sizeref\": 48.31234094228388, \"symbol\": \"circle\"}, \"mode\": \"markers\", \"name\": \"04/23 18:00\", \"orientation\": \"v\", \"showlegend\": true, \"type\": \"scatter\", \"x\": [\"04/23 18:00\"], \"xaxis\": \"x\", \"y\": [172230.757506667], \"yaxis\": \"y\"}, {\"hovertemplate\": \"Fecha y Hora=%{x}<br>Uso [kWh]=%{marker.size}<extra></extra>\", \"legendgroup\": \"04/22 18:00\", \"marker\": {\"color\": \"#B6E880\", \"size\": [171932.770070833], \"sizemode\": \"area\", \"sizeref\": 48.31234094228388, \"symbol\": \"circle\"}, \"mode\": \"markers\", \"name\": \"04/22 18:00\", \"orientation\": \"v\", \"showlegend\": true, \"type\": \"scatter\", \"x\": [\"04/22 18:00\"], \"xaxis\": \"x\", \"y\": [171932.770070833], \"yaxis\": \"y\"}, {\"hovertemplate\": \"Fecha y Hora=%{x}<br>Uso [kWh]=%{marker.size}<extra></extra>\", \"legendgroup\": \"04/21 18:00\", \"marker\": {\"color\": \"#FF97FF\", \"size\": [171625.7221675], \"sizemode\": \"area\", \"sizeref\": 48.31234094228388, \"symbol\": \"circle\"}, \"mode\": \"markers\", \"name\": \"04/21 18:00\", \"orientation\": \"v\", \"showlegend\": true, \"type\": \"scatter\", \"x\": [\"04/21 18:00\"], \"xaxis\": \"x\", \"y\": [171625.7221675], \"yaxis\": \"y\"}, {\"hovertemplate\": \"Fecha y Hora=%{x}<br>Uso [kWh]=%{marker.size}<extra></extra>\", \"legendgroup\": \"04/20 18:00\", \"marker\": {\"color\": \"#FECB52\", \"size\": [171346.2951025], \"sizemode\": \"area\", \"sizeref\": 48.31234094228388, \"symbol\": \"circle\"}, \"mode\": \"markers\", \"name\": \"04/20 18:00\", \"orientation\": \"v\", \"showlegend\": true, \"type\": \"scatter\", \"x\": [\"04/20 18:00\"], \"xaxis\": \"x\", \"y\": [171346.2951025], \"yaxis\": \"y\"}],                        {\"legend\": {\"itemsizing\": \"constant\", \"title\": {\"text\": \"Fecha y Hora\"}, \"tracegroupgap\": 0}, \"margin\": {\"t\": 60}, \"template\": {\"data\": {\"bar\": [{\"error_x\": {\"color\": \"#2a3f5f\"}, \"error_y\": {\"color\": \"#2a3f5f\"}, \"marker\": {\"line\": {\"color\": \"#E5ECF6\", \"width\": 0.5}}, \"type\": \"bar\"}], \"barpolar\": [{\"marker\": {\"line\": {\"color\": \"#E5ECF6\", \"width\": 0.5}}, \"type\": \"barpolar\"}], \"carpet\": [{\"aaxis\": {\"endlinecolor\": \"#2a3f5f\", \"gridcolor\": \"white\", \"linecolor\": \"white\", \"minorgridcolor\": \"white\", \"startlinecolor\": \"#2a3f5f\"}, \"baxis\": {\"endlinecolor\": \"#2a3f5f\", \"gridcolor\": \"white\", \"linecolor\": \"white\", \"minorgridcolor\": \"white\", \"startlinecolor\": \"#2a3f5f\"}, \"type\": \"carpet\"}], \"choropleth\": [{\"colorbar\": {\"outlinewidth\": 0, \"ticks\": \"\"}, \"type\": \"choropleth\"}], \"contour\": [{\"colorbar\": {\"outlinewidth\": 0, \"ticks\": \"\"}, \"colorscale\": [[0.0, \"#0d0887\"], [0.1111111111111111, \"#46039f\"], [0.2222222222222222, \"#7201a8\"], [0.3333333333333333, \"#9c179e\"], [0.4444444444444444, \"#bd3786\"], [0.5555555555555556, \"#d8576b\"], [0.6666666666666666, \"#ed7953\"], [0.7777777777777778, \"#fb9f3a\"], [0.8888888888888888, \"#fdca26\"], [1.0, \"#f0f921\"]], \"type\": \"contour\"}], \"contourcarpet\": [{\"colorbar\": {\"outlinewidth\": 0, \"ticks\": \"\"}, \"type\": \"contourcarpet\"}], \"heatmap\": [{\"colorbar\": {\"outlinewidth\": 0, \"ticks\": \"\"}, \"colorscale\": [[0.0, \"#0d0887\"], [0.1111111111111111, \"#46039f\"], [0.2222222222222222, \"#7201a8\"], [0.3333333333333333, \"#9c179e\"], [0.4444444444444444, \"#bd3786\"], [0.5555555555555556, \"#d8576b\"], [0.6666666666666666, \"#ed7953\"], [0.7777777777777778, \"#fb9f3a\"], [0.8888888888888888, \"#fdca26\"], [1.0, \"#f0f921\"]], \"type\": \"heatmap\"}], \"heatmapgl\": [{\"colorbar\": {\"outlinewidth\": 0, \"ticks\": \"\"}, \"colorscale\": [[0.0, \"#0d0887\"], [0.1111111111111111, \"#46039f\"], [0.2222222222222222, \"#7201a8\"], [0.3333333333333333, \"#9c179e\"], [0.4444444444444444, \"#bd3786\"], [0.5555555555555556, \"#d8576b\"], [0.6666666666666666, \"#ed7953\"], [0.7777777777777778, \"#fb9f3a\"], [0.8888888888888888, \"#fdca26\"], [1.0, \"#f0f921\"]], \"type\": \"heatmapgl\"}], \"histogram\": [{\"marker\": {\"colorbar\": {\"outlinewidth\": 0, \"ticks\": \"\"}}, \"type\": \"histogram\"}], \"histogram2d\": [{\"colorbar\": {\"outlinewidth\": 0, \"ticks\": \"\"}, \"colorscale\": [[0.0, \"#0d0887\"], [0.1111111111111111, \"#46039f\"], [0.2222222222222222, \"#7201a8\"], [0.3333333333333333, \"#9c179e\"], [0.4444444444444444, \"#bd3786\"], [0.5555555555555556, \"#d8576b\"], [0.6666666666666666, \"#ed7953\"], [0.7777777777777778, \"#fb9f3a\"], [0.8888888888888888, \"#fdca26\"], [1.0, \"#f0f921\"]], \"type\": \"histogram2d\"}], \"histogram2dcontour\": [{\"colorbar\": {\"outlinewidth\": 0, \"ticks\": \"\"}, \"colorscale\": [[0.0, \"#0d0887\"], [0.1111111111111111, \"#46039f\"], [0.2222222222222222, \"#7201a8\"], [0.3333333333333333, \"#9c179e\"], [0.4444444444444444, \"#bd3786\"], [0.5555555555555556, \"#d8576b\"], [0.6666666666666666, \"#ed7953\"], [0.7777777777777778, \"#fb9f3a\"], [0.8888888888888888, \"#fdca26\"], [1.0, \"#f0f921\"]], \"type\": \"histogram2dcontour\"}], \"mesh3d\": [{\"colorbar\": {\"outlinewidth\": 0, \"ticks\": \"\"}, \"type\": \"mesh3d\"}], \"parcoords\": [{\"line\": {\"colorbar\": {\"outlinewidth\": 0, \"ticks\": \"\"}}, \"type\": \"parcoords\"}], \"pie\": [{\"automargin\": true, \"type\": \"pie\"}], \"scatter\": [{\"marker\": {\"colorbar\": {\"outlinewidth\": 0, \"ticks\": \"\"}}, \"type\": \"scatter\"}], \"scatter3d\": [{\"line\": {\"colorbar\": {\"outlinewidth\": 0, \"ticks\": \"\"}}, \"marker\": {\"colorbar\": {\"outlinewidth\": 0, \"ticks\": \"\"}}, \"type\": \"scatter3d\"}], \"scattercarpet\": [{\"marker\": {\"colorbar\": {\"outlinewidth\": 0, \"ticks\": \"\"}}, \"type\": \"scattercarpet\"}], \"scattergeo\": [{\"marker\": {\"colorbar\": {\"outlinewidth\": 0, \"ticks\": \"\"}}, \"type\": \"scattergeo\"}], \"scattergl\": [{\"marker\": {\"colorbar\": {\"outlinewidth\": 0, \"ticks\": \"\"}}, \"type\": \"scattergl\"}], \"scattermapbox\": [{\"marker\": {\"colorbar\": {\"outlinewidth\": 0, \"ticks\": \"\"}}, \"type\": \"scattermapbox\"}], \"scatterpolar\": [{\"marker\": {\"colorbar\": {\"outlinewidth\": 0, \"ticks\": \"\"}}, \"type\": \"scatterpolar\"}], \"scatterpolargl\": [{\"marker\": {\"colorbar\": {\"outlinewidth\": 0, \"ticks\": \"\"}}, \"type\": \"scatterpolargl\"}], \"scatterternary\": [{\"marker\": {\"colorbar\": {\"outlinewidth\": 0, \"ticks\": \"\"}}, \"type\": \"scatterternary\"}], \"surface\": [{\"colorbar\": {\"outlinewidth\": 0, \"ticks\": \"\"}, \"colorscale\": [[0.0, \"#0d0887\"], [0.1111111111111111, \"#46039f\"], [0.2222222222222222, \"#7201a8\"], [0.3333333333333333, \"#9c179e\"], [0.4444444444444444, \"#bd3786\"], [0.5555555555555556, \"#d8576b\"], [0.6666666666666666, \"#ed7953\"], [0.7777777777777778, \"#fb9f3a\"], [0.8888888888888888, \"#fdca26\"], [1.0, \"#f0f921\"]], \"type\": \"surface\"}], \"table\": [{\"cells\": {\"fill\": {\"color\": \"#EBF0F8\"}, \"line\": {\"color\": \"white\"}}, \"header\": {\"fill\": {\"color\": \"#C8D4E3\"}, \"line\": {\"color\": \"white\"}}, \"type\": \"table\"}]}, \"layout\": {\"annotationdefaults\": {\"arrowcolor\": \"#2a3f5f\", \"arrowhead\": 0, \"arrowwidth\": 1}, \"autotypenumbers\": \"strict\", \"coloraxis\": {\"colorbar\": {\"outlinewidth\": 0, \"ticks\": \"\"}}, \"colorscale\": {\"diverging\": [[0, \"#8e0152\"], [0.1, \"#c51b7d\"], [0.2, \"#de77ae\"], [0.3, \"#f1b6da\"], [0.4, \"#fde0ef\"], [0.5, \"#f7f7f7\"], [0.6, \"#e6f5d0\"], [0.7, \"#b8e186\"], [0.8, \"#7fbc41\"], [0.9, \"#4d9221\"], [1, \"#276419\"]], \"sequential\": [[0.0, \"#0d0887\"], [0.1111111111111111, \"#46039f\"], [0.2222222222222222, \"#7201a8\"], [0.3333333333333333, \"#9c179e\"], [0.4444444444444444, \"#bd3786\"], [0.5555555555555556, \"#d8576b\"], [0.6666666666666666, \"#ed7953\"], [0.7777777777777778, \"#fb9f3a\"], [0.8888888888888888, \"#fdca26\"], [1.0, \"#f0f921\"]], \"sequentialminus\": [[0.0, \"#0d0887\"], [0.1111111111111111, \"#46039f\"], [0.2222222222222222, \"#7201a8\"], [0.3333333333333333, \"#9c179e\"], [0.4444444444444444, \"#bd3786\"], [0.5555555555555556, \"#d8576b\"], [0.6666666666666666, \"#ed7953\"], [0.7777777777777778, \"#fb9f3a\"], [0.8888888888888888, \"#fdca26\"], [1.0, \"#f0f921\"]]}, \"colorway\": [\"#636efa\", \"#EF553B\", \"#00cc96\", \"#ab63fa\", \"#FFA15A\", \"#19d3f3\", \"#FF6692\", \"#B6E880\", \"#FF97FF\", \"#FECB52\"], \"font\": {\"color\": \"#2a3f5f\"}, \"geo\": {\"bgcolor\": \"white\", \"lakecolor\": \"white\", \"landcolor\": \"#E5ECF6\", \"showlakes\": true, \"showland\": true, \"subunitcolor\": \"white\"}, \"hoverlabel\": {\"align\": \"left\"}, \"hovermode\": \"closest\", \"mapbox\": {\"style\": \"light\"}, \"paper_bgcolor\": \"white\", \"plot_bgcolor\": \"#E5ECF6\", \"polar\": {\"angularaxis\": {\"gridcolor\": \"white\", \"linecolor\": \"white\", \"ticks\": \"\"}, \"bgcolor\": \"#E5ECF6\", \"radialaxis\": {\"gridcolor\": \"white\", \"linecolor\": \"white\", \"ticks\": \"\"}}, \"scene\": {\"xaxis\": {\"backgroundcolor\": \"#E5ECF6\", \"gridcolor\": \"white\", \"gridwidth\": 2, \"linecolor\": \"white\", \"showbackground\": true, \"ticks\": \"\", \"zerolinecolor\": \"white\"}, \"yaxis\": {\"backgroundcolor\": \"#E5ECF6\", \"gridcolor\": \"white\", \"gridwidth\": 2, \"linecolor\": \"white\", \"showbackground\": true, \"ticks\": \"\", \"zerolinecolor\": \"white\"}, \"zaxis\": {\"backgroundcolor\": \"#E5ECF6\", \"gridcolor\": \"white\", \"gridwidth\": 2, \"linecolor\": \"white\", \"showbackground\": true, \"ticks\": \"\", \"zerolinecolor\": \"white\"}}, \"shapedefaults\": {\"line\": {\"color\": \"#2a3f5f\"}}, \"ternary\": {\"aaxis\": {\"gridcolor\": \"white\", \"linecolor\": \"white\", \"ticks\": \"\"}, \"baxis\": {\"gridcolor\": \"white\", \"linecolor\": \"white\", \"ticks\": \"\"}, \"bgcolor\": \"#E5ECF6\", \"caxis\": {\"gridcolor\": \"white\", \"linecolor\": \"white\", \"ticks\": \"\"}}, \"title\": {\"x\": 0.05}, \"xaxis\": {\"automargin\": true, \"gridcolor\": \"white\", \"linecolor\": \"white\", \"ticks\": \"\", \"title\": {\"standoff\": 15}, \"zerolinecolor\": \"white\", \"zerolinewidth\": 2}, \"yaxis\": {\"automargin\": true, \"gridcolor\": \"white\", \"linecolor\": \"white\", \"ticks\": \"\", \"title\": {\"standoff\": 15}, \"zerolinecolor\": \"white\", \"zerolinewidth\": 2}}}, \"xaxis\": {\"anchor\": \"y\", \"categoryarray\": [\"04/29 18:00\", \"04/28 18:00\", \"04/27 18:00\", \"04/26 18:00\", \"04/25 18:00\", \"04/24 18:00\", \"04/23 18:00\", \"04/22 18:00\", \"04/21 18:00\", \"04/20 18:00\"], \"categoryorder\": \"array\", \"domain\": [0.0, 1.0], \"title\": {\"text\": \"Fecha y Hora\"}}, \"yaxis\": {\"anchor\": \"x\", \"domain\": [0.0, 1.0], \"title\": {\"text\": \"Uso [kWh]\"}}},                        {\"responsive\": true}                    ).then(function(){\n",
       "                            \n",
       "var gd = document.getElementById('581585a9-a915-41fd-a2f1-80abacf789a8');\n",
       "var x = new MutationObserver(function (mutations, observer) {{\n",
       "        var display = window.getComputedStyle(gd).display;\n",
       "        if (!display || display === 'none') {{\n",
       "            console.log([gd, 'removed!']);\n",
       "            Plotly.purge(gd);\n",
       "            observer.disconnect();\n",
       "        }}\n",
       "}});\n",
       "\n",
       "// Listen for the removal of the full notebook cells\n",
       "var notebookContainer = gd.closest('#notebook-container');\n",
       "if (notebookContainer) {{\n",
       "    x.observe(notebookContainer, {childList: true});\n",
       "}}\n",
       "\n",
       "// Listen for the clearing of the current output cell\n",
       "var outputEl = gd.closest('.output');\n",
       "if (outputEl) {{\n",
       "    x.observe(outputEl, {childList: true});\n",
       "}}\n",
       "\n",
       "                        })                };                });            </script>        </div>"
      ]
     },
     "metadata": {},
     "output_type": "display_data"
    }
   ],
   "source": [
    "############################################################################################ Gráfica\n",
    "\n",
    "fig = px.scatter(data.head(10), x = 'Fecha y Hora', y =  'Uso [kWh]',\n",
    "                 size= 'Uso [kWh]', color = 'Fecha y Hora' ,size_max = 60)\n",
    "fig.update_layout()"
   ]
  },
  {
   "cell_type": "code",
   "execution_count": 4,
   "metadata": {},
   "outputs": [
    {
     "ename": "TypeError",
     "evalue": "fromtimestamp() missing required argument 'timestamp' (pos 1)",
     "output_type": "error",
     "traceback": [
      "\u001b[1;31m---------------------------------------------------------------------------\u001b[0m",
      "\u001b[1;31mTypeError\u001b[0m                                 Traceback (most recent call last)",
      "\u001b[1;32m<ipython-input-4-685ae7fbfbd6>\u001b[0m in \u001b[0;36m<module>\u001b[1;34m\u001b[0m\n\u001b[1;32m----> 1\u001b[1;33m \u001b[0mdate\u001b[0m \u001b[1;33m=\u001b[0m \u001b[0mdatetime\u001b[0m\u001b[1;33m.\u001b[0m\u001b[0mdatetime\u001b[0m\u001b[1;33m.\u001b[0m\u001b[0mfromtimestamp\u001b[0m\u001b[1;33m(\u001b[0m\u001b[1;33m)\u001b[0m\u001b[1;33m\u001b[0m\u001b[1;33m\u001b[0m\u001b[0m\n\u001b[0m\u001b[0;32m      2\u001b[0m \u001b[0mprint\u001b[0m\u001b[1;33m(\u001b[0m\u001b[0mdate\u001b[0m\u001b[1;33m.\u001b[0m\u001b[0mstrftime\u001b[0m\u001b[1;33m(\u001b[0m\u001b[1;34m'%Y-%m-%d %H:%M:%S'\u001b[0m\u001b[1;33m)\u001b[0m\u001b[1;33m)\u001b[0m\u001b[1;33m\u001b[0m\u001b[1;33m\u001b[0m\u001b[0m\n",
      "\u001b[1;31mTypeError\u001b[0m: fromtimestamp() missing required argument 'timestamp' (pos 1)"
     ]
    }
   ],
   "source": [
    "date = datetime.datetime.fromtimestamp()\n",
    "print(date.strftime('%Y-%m-%d %H:%M:%S'))"
   ]
  }
 ],
 "metadata": {
  "kernelspec": {
   "display_name": "Python 3",
   "language": "python",
   "name": "python3"
  },
  "language_info": {
   "codemirror_mode": {
    "name": "ipython",
    "version": 3
   },
   "file_extension": ".py",
   "mimetype": "text/x-python",
   "name": "python",
   "nbconvert_exporter": "python",
   "pygments_lexer": "ipython3",
   "version": "3.8.3"
  }
 },
 "nbformat": 4,
 "nbformat_minor": 4
}
